{
 "cells": [
  {
   "cell_type": "code",
   "execution_count": 1,
   "metadata": {},
   "outputs": [
    {
     "name": "stdout",
     "output_type": "stream",
     "text": [
      "/Users/silke/Documents/studiumDataScience/semester2/DSW/Biesmann/newsreader/dsw/ml-task\n"
     ]
    }
   ],
   "source": [
    "import os\n",
    "import sklearn.datasets as skd\n",
    "\n",
    "from sklearn.pipeline import Pipeline\n",
    "from sklearn.feature_extraction.text import TfidfVectorizer\n",
    "\n",
    "#categories = ['alt.atheism', 'soc.religion.christian','comp.graphics', 'sci.med']\n",
    "#news_test = skd.load_files('C:/Users/laptop/Desktop/BEUTH/SEMESTER2/Workflow/20news-bydate-test', categories= categories, encoding= 'ISO-8859-1')\n",
    "#news_train = skd.load_files('C:/Users/laptop/Desktop/BEUTH/SEMESTER2/Workflow/20news-bydate-train',categories= categories, encoding= 'ISO-8859-1')\n",
    "\n",
    "print(os.getcwd())"
   ]
  },
  {
   "cell_type": "code",
   "execution_count": 32,
   "metadata": {},
   "outputs": [],
   "source": [
    "import re\n",
    "\n",
    "def preprocessing_02 (text):\n",
    "    #print(text)\n",
    "    a = text.lower() # lower cases only\n",
    "    #remove non-ascii and digits\n",
    "    b = re.sub(\"(\\\\W|\\\\d)\",\" \",a)\n",
    "    blob = TextBlobDE(b)\n",
    "    return(blob.words.lemmatize()) # lemmatize for german"
   ]
  },
  {
   "cell_type": "code",
   "execution_count": 39,
   "metadata": {},
   "outputs": [
    {
     "name": "stdout",
     "output_type": "stream",
     "text": [
      "['gegor', 'banane', 'sein', 'mein', 'ss', 'in', 'berlin', 'gebären', 'lieblingsessen', 'ä', 'ümnla']\n"
     ]
    }
   ],
   "source": [
    "print(preprocessing_02(str(\"Gegorene Banane ist mein ! ß # ' in Berlin geboren Lieblingsessen. 55 ä Ümnla\")))"
   ]
  },
  {
   "cell_type": "code",
   "execution_count": 46,
   "metadata": {},
   "outputs": [
    {
     "name": "stdout",
     "output_type": "stream",
     "text": [
      "646 files to work with.\n"
     ]
    }
   ],
   "source": [
    "import os\n",
    "import glob\n",
    "import pandas as pd\n",
    "from textblob_de import TextBlobDE\n",
    "\n",
    "#print(glob.glob(\"tagesspiegel-2020-07-07/*.txt\")[0:10])\n",
    "file_list = glob.glob(\"../tagesspiegel/*.txt\")\n",
    "\n",
    "n = len(file_list)\n",
    "print(n , \"files to work with.\")\n",
    "\n",
    "list_of_articles = []\n",
    "\n",
    "for i in range(40):\n",
    "    with open (file_list[i]) as file:\n",
    "        text=file.read()\n",
    "        #preprocessing: lower cases and lemmatizing\n",
    "        list_of_articles.append(str(preprocessing_02(text)))\n",
    "\n",
    "        \n",
    "#list_of_articles"
   ]
  },
  {
   "cell_type": "code",
   "execution_count": 48,
   "metadata": {},
   "outputs": [
    {
     "data": {
      "text/plain": [
       "\"['fasen', 'vergessene', 'milliarden', 'bund', 'ignoriert', 'klimaschutz', 'bei', 'geldanlagen', 'der', 'abzugen', 'von', 'investitionen', 'aus', 'fossilen', 'brennstoffen', 'gehören', 'zu', 'den', 'topthemen', 'des', 'weltwirtschaftsforums', 'in', 'davos', 'und', 'offiziell', 'auch', 'zu', 'den', 'zielen', 'der', 'bundesregierung', 'das', 'bundesfinanzministerium', 'bmf', 'etwaten', 'wollen', 'deutschland', 'zum', 'führend', 'standort', 'für', 'nachhaltige', 'finanzen', 'machen', 'doch', 'für', 'eigen', 'investitionen', 'fehlen', 'bundesfinanzminister', 'olaf', 'scholz', 'spd', 'konkret', 'klimaschutzleitplanken', 'selbst', 'die', 'mitarbeiter', 'im', 'finanzministerium', 'wissen', 'nämlich', 'nicht', 'welche', 'summen', 'die', 'versorgungsanstalt', 'des', 'bundes', 'und', 'der', 'länder', 'vbl', 'überhaupen', 'in', 'klimaschädlich', 'unternehmen', 'gesteckt', 'haben', 'tagesspiegel', 'background', 'energie', 'klima', 'kohleausstieg', 'klimawandel', 'sektorkopplung', 'das', 'briefing', 'für', 'den', 'energie', 'und', 'klimasektor', 'für', 'entscheid', 'experten', 'aus', 'wirtschaft', 'politik', 'verbinden', 'wissenschaft', 'und', 'ngo', 'jetzt', 'kostenlos', 'testen', 'das', 'geht', 'aus', 'ein', 'antwort', 'des', 'ministeriums', 'auf', 'ein', 'frage', 'des', 'vereins', 'bürgerbewegung', 'finanzwende', 'hervor', 'die', 'tagesspiegel', 'background', 'vorliegen', 'darin', 'heeissen', 'es', 'mit', 'blick', 'auf', 'die', 'vbl', 'daten', 'zu', 'den', 'direktinvestments', 'und', 'fondsbeteiligungen', 'liegen', 'hier', 'weder', 'auf', 'ebene', 'von', 'einzelwerten', 'noch', 'auf', 'ebene', 'von', 'fondsanteilen', 'vor', 'dabei', 'obleigen', 'dem', 'bmf', 'eigentlich', 'die', 'aufsichtspflicht', 'über', 'die', 'grösst', 'deutsch', 'zusatzversorgungskasse', 'für', 'beschäftigen', 'im', 'öffentlich', 'dienst', 'und', 'ihr', 'vermögen', 'von', 'milliarden', 'euro', 'das', 'ministerium', 'sein', 'auch', 'in', 'ihrem', 'vorstand', 'vertreten', 'so', 'funktioniert', 'die', 'versorgungsanstalt', 'des', 'bundes', 'und', 'der', 'länder', 'vbl', 'die', 'vbl', 'sein', 'ein', 'vom', 'bund', 'und', 'den', 'ländern', 'mit', 'ausnahme', 'von', 'hamburg', 'und', 'dem', 'saarland', 'getragen', 'anstalt', 'des', 'öffentlichen', 'rechts', 'sie', 'verwalten', 'die', 'betrieblich', 'altersvorsorge', 'von', 'verwaltungsangestellten', 'erziehern', 'pflegerinnen', 'fluglotsen', 'kirchenmitarbeitern', 'und', 'müllwerkern', 'von', 'verwaltungsangestellten', 'erziehern', 'pflegerinnen', 'fluglotsen', 'kirchenmitarbeitern', 'und', 'müllwerkern', 'sie', 'sein', 'für', 'millionen', 'versicherte', 'und', 'etwa', 'millionen', 'rentner', 'zuständig', 'damit', 'sein', 'die', 'vbl', 'ein', 'der', 'bedeutendsten', 'akteure', 'am', 'finanzmarkt', 'ob', 'sie', 'ihre', 'gelder', 'in', 'kohle', 'gas', 'und', 'öl', 'oder', 'in', 'regenerative', 'energieträger', 'und', 'nachhaltige', 'mobilität', 'investiert', 'sein', 'von', 'hoh', 'relevanz', 'oder', 'in', 'investiert', 'sein', 'von', 'hoh', 'relevanz', 'bislang', 'schlassen', 'die', 'vbl', 'nach', 'eigen', 'angaben', 'jedoch', 'lediglich', 'manch', 'waffenhersteller', 'aus', 'ihrem', 'portfolio', 'aus', 'nicht', 'aber', 'investitionen', 'in', 'kohle', 'öl', 'und', 'gas', 'dass', 'sich', 'nicht', 'einmal', 'das', 'finanzministerium', 'einblick', 'in', 'das', 'portfolio', 'der', 'vbl', 'verschafft', 'sein', 'nicht', 'nur', 'fahrlässig', 'sondern', 'stellen', 'auch', 'die', 'bemühungen', 'der', 'bundesregierung', 'im', 'hinblick', 'auf', 'nachhaltig', 'finanzen', 'in', 'frage', 'sagen', 'lena', 'blanken', 'kampagnenleiterin', 'der', 'bürgerbewegung', 'finanzwende', 'aus', 'der', 'community', 'offenbar', 'sein', 'den', 'verantwortlichen', 'immer', 'noch', 'nicht', 'klar', 'was', 'der', 'glaubwürdigkeit', 'der', 'politik', 'am', 'meist', 'schaden', 'und', 'die', 'geduld', 'der', 'mensch', 'nachhaltig', 'strapaziert', 'das', 'auseinanderklaffen', 'von', 'reden', 'und', 'tun', 'schreiben', 'nutzerin', 'nanen', 'greenpeace', 'kritisiert', 'billion', 'investitionen', 'in', 'fossil', 'brennstoffe', 'in', 'dem', 'verein', 'unter', 'der', 'führung', 'des', 'ehemalig', 'grünen', 'bundestagsabgeordneten', 'gerhard', 'schick', 'sein', 'nach', 'eigen', 'angaben', 'mehr', 'als', 'mitglieder', 'zusammengeschloss', 'blanken', 'sagen', 'tagesspiegel', 'background', 'das', 'bundesfinanzministerium', 'kommen', 'dem', 'anspruch', 'deutschland', 'zum', 'führend', 'standort', 'für', 'nachhaltige', 'finanzen', 'zu', 'machen', 'bei', 'der', 'anlage', 'von', 'öffentlich', 'geldern', 'offenbar', 'selbst', 'nicht', 'nach', 'auch', 'susann', 'bollmann', 'senior', 'managerin', 'finanzierung', 'bei', 'der', 'deutsch', 'unternehmensinitiative', 'energieeffizienz', 'deneff', 'kritisiert', 'soen', 'werden', 'die', 'bemühungen', 'der', 'bundesregierung', 'konterkariert', 'deutschland', 'zum', 'vorreiter', 'bei', 'nachhaltig', 'investments', 'zu', 'machen', 'finanziell', 'risiken', 'für', 'die', 'altersvorsorge', 'bleiben', 'unberücksichtigen', 'das', 'ist', 'grob', 'fahrlässig', 'sagen', 'sie', 'tagesspiegel', 'background', 'es', 'liege', 'bereits', 'ein', 'eu', 'regelwerk', 'dazuen', 'vor', 'was', 'genau', 'nachhaltige', 'finanzgeschäfte', 'sein', 'die', 'bundesregierung', 'müss', 'zukünftig', 'klimarisiken', 'für', 'ihre', 'geldanlagen', 'entsprechend', 'berücksichtigen', 'damit', 'geraten', 'scholz', 'zunehmend', 'unter', 'druck', 'die', 'klimabewegung', 'fridays', 'for', 'future', 'wollen', 'in', 'dies', 'jahr', 'verstärken', 'investitionen', 'und', 'unternehmen', 'ins', 'visier', 'nehmen', 'dies', 'jahr', 'wollen', 'wir', 'uns', 'deutlich', 'mehr', 'auf', 'wirtschaftlich', 'akteure', 'fokussieren', 'sagen', 'die', 'klimaaktivistin', 'luisa', 'neubauer', 'eren', 'vor', 'wenig', 'tagen', 'dazu', 'wollen', 'die', 'aktivisten', 'verstärkt', 'auf', 'aktionärsversammlungen', 'demonstrieren', 'zu', 'beginnen', 'des', 'weltwirtschaftsforums', 'in', 'davos', 'haben', 'auch', 'greenpeace', 'einig', 'der', 'weltweit', 'grösst', 'finanzinstitutionen', 'für', 'ihre', 'billion', 'investitionen', 'in', 'fossile', 'brennstoffe', 'kritisiert', 'banken', 'versicherer', 'und', 'pensionsfonds', 'haben', 'seit', 'dem', 'pariser', 'klimaabkommen', 'im', 'jahr', 'die', 'industrie', 'für', 'fossil', 'brennstoffe', 'mit', 'knapp', 'billionen', 'euro', 'finanzieren', 'erklären', 'die', 'umweltschutzorganisation', 'mehr', 'zum', 'thema', 'blackrock', 'wollen', 'kapital', 'umschichen', 'wie', 'ernst', 'nehm', 'geldgeber', 'den', 'klimawandel', 'allerdings', 'fehlen', 'investoren', 'mitunter', 'auch', 'die', 'möglichkeit', 'in', 'nachhaltige', 'anlagen', 'zu', 'investieren', 'die', 'schweizerisch', 'grossbank', 'ubs', 'wollen', 'ihren', 'kunden', 'dahern', 'verstärken', 'nachhaltige', 'geldanlagen', 'anbieten', 'und', 'bessere', 'daten', 'zur', 'nachhaltigkeit', 'und', 'zum', 'klimarisiko', 'von', 'investments', 'an', 'die', 'hand', 'geben', 'ubs', 'verwaltungsratschef', 'axel', 'weber', 'haben', 'dazu', 'in', 'davos', 'ein', 'neu', 'marschroute', 'vorstellen', 'das', 'ziel', 'die', 'abhängigkeit', 'von', 'klimaschädlich', 'branch', 'abmildern']\""
      ]
     },
     "execution_count": 48,
     "metadata": {},
     "output_type": "execute_result"
    }
   ],
   "source": [
    "list_of_articles[1]"
   ]
  },
  {
   "cell_type": "code",
   "execution_count": 49,
   "metadata": {},
   "outputs": [
    {
     "data": {
      "text/plain": [
       "Pipeline(memory=None,\n",
       "         steps=[('vect',\n",
       "                 CountVectorizer(analyzer='word', binary=False,\n",
       "                                 decode_error='strict',\n",
       "                                 dtype=<class 'numpy.int64'>, encoding='utf-8',\n",
       "                                 input=[\"['wir', 'haben', 'solch', 'angst', \"\n",
       "                                        \"'warum', 'die', 'hongkong', \"\n",
       "                                        \"'revolution', 'in', 'göttingen', \"\n",
       "                                        \"'weitergehen', 'er', 'wirkt', \"\n",
       "                                        \"'angespannt', 'müd', 'nervös', 'er', \"\n",
       "                                        \"'sprechen', 'leis', 'und', \"\n",
       "                                        \"'manchmal', 'n...\n",
       "                                 lowercase=True, max_df=0.8, max_features=None,\n",
       "                                 min_df=5, ngram_range=(1, 1),\n",
       "                                 preprocessor=None, stop_words=None,\n",
       "                                 strip_accents=None,\n",
       "                                 token_pattern='(?u)\\\\b\\\\w\\\\w+\\\\b',\n",
       "                                 tokenizer=None, vocabulary=None)),\n",
       "                ('cluster',\n",
       "                 KMeans(algorithm='auto', copy_x=True, init='k-means++',\n",
       "                        max_iter=300, n_clusters=5, n_init=10, n_jobs=None,\n",
       "                        precompute_distances='auto', random_state=None,\n",
       "                        tol=0.0001, verbose=0))],\n",
       "         verbose=False)"
      ]
     },
     "execution_count": 49,
     "metadata": {},
     "output_type": "execute_result"
    }
   ],
   "source": [
    "from sklearn.pipeline import Pipeline\n",
    "from sklearn.feature_extraction.text import TfidfVectorizer\n",
    "from sklearn.feature_extraction.text import CountVectorizer\n",
    "from sklearn.cluster import KMeans\n",
    "\n",
    "text_cluster = Pipeline([('vect', CountVectorizer(list_of_articles, max_df=0.8 , min_df = 5)), \n",
    "                      ('cluster', KMeans(init='k-means++', n_clusters=5, n_init=10)) ])\n",
    "\n",
    "# there is an option 'preprocessor' for the count vectoriser.\n",
    "# I could do the to lower and lemmatizing here.\n",
    "\n",
    "# train the model\n",
    "text_cluster.fit(list_of_articles)\n",
    "\n",
    "# How can I access the CountVectoriser? When I defined a CountVectoriser cv I could do\n",
    "#print(cv.stop_words_)"
   ]
  },
  {
   "cell_type": "code",
   "execution_count": 64,
   "metadata": {},
   "outputs": [],
   "source": []
  },
  {
   "cell_type": "code",
   "execution_count": 51,
   "metadata": {},
   "outputs": [
    {
     "data": {
      "image/png": "[encoded data removed]",
      "text/plain": [
       "<Figure size 432x288 with 1 Axes>"
      ]
     },
     "metadata": {
      "needs_background": "light"
     },
     "output_type": "display_data"
    }
   ],
   "source": [
    "import matplotlib.pyplot as plt\n",
    "\n",
    "pred = text_cluster.predict(list_of_articles)\n",
    "\n",
    "num_bins = 5\n",
    "n, bins, patches = plt.hist(pred, num_bins, facecolor='blue', alpha=0.5)\n",
    "plt.title('sizes of clusters')\n",
    "plt.ylabel('nr. of articles')\n",
    "plt.show()"
   ]
  },
  {
   "cell_type": "markdown",
   "metadata": {},
   "source": [
    "Set parameters in a smart way.\n",
    "number of clusters -> knee / elbow\n",
    "max_df and min_df\n",
    "there are decision rules for this?\n",
    "over all Distance (from the clusters center)"
   ]
  },
  {
   "cell_type": "code",
   "execution_count": 53,
   "metadata": {},
   "outputs": [
    {
     "ename": "NameError",
     "evalue": "name 'PCA' is not defined",
     "output_type": "error",
     "traceback": [
      "\u001b[0;31m---------------------------------------------------------------------------\u001b[0m",
      "\u001b[0;31mNameError\u001b[0m                                 Traceback (most recent call last)",
      "\u001b[0;32m<ipython-input-53-3b321849626a>\u001b[0m in \u001b[0;36m<module>\u001b[0;34m\u001b[0m\n\u001b[1;32m      1\u001b[0m \u001b[0;31m# https://scikit-learn.org/stable/auto_examples/cluster/plot_kmeans_digits.html?highlight=preprocessing\u001b[0m\u001b[0;34m\u001b[0m\u001b[0;34m\u001b[0m\u001b[0;34m\u001b[0m\u001b[0m\n\u001b[0;32m----> 2\u001b[0;31m \u001b[0mreduced_data\u001b[0m \u001b[0;34m=\u001b[0m \u001b[0mPCA\u001b[0m\u001b[0;34m(\u001b[0m\u001b[0mn_components\u001b[0m\u001b[0;34m=\u001b[0m\u001b[0;36m2\u001b[0m\u001b[0;34m)\u001b[0m\u001b[0;34m.\u001b[0m\u001b[0mfit_transform\u001b[0m\u001b[0;34m(\u001b[0m\u001b[0mlist_of_articles\u001b[0m\u001b[0;34m)\u001b[0m\u001b[0;34m\u001b[0m\u001b[0;34m\u001b[0m\u001b[0m\n\u001b[0m\u001b[1;32m      3\u001b[0m \u001b[0;31m#kmeans = KMeans(init='k-means++', n_clusters=n_digits, n_init=10)\u001b[0m\u001b[0;34m\u001b[0m\u001b[0;34m\u001b[0m\u001b[0;34m\u001b[0m\u001b[0m\n\u001b[1;32m      4\u001b[0m \u001b[0;31m#kmeans.fit(reduced_data)\u001b[0m\u001b[0;34m\u001b[0m\u001b[0;34m\u001b[0m\u001b[0;34m\u001b[0m\u001b[0m\n",
      "\u001b[0;31mNameError\u001b[0m: name 'PCA' is not defined"
     ]
    }
   ],
   "source": [
    "# https://scikit-learn.org/stable/auto_examples/cluster/plot_kmeans_digits.html?highlight=preprocessing\n",
    "reduced_data = PCA(n_components=2).fit_transform(list_of_articles)\n",
    "#kmeans = KMeans(init='k-means++', n_clusters=n_digits, n_init=10)\n",
    "#kmeans.fit(reduced_data)"
   ]
  },
  {
   "cell_type": "code",
   "execution_count": 4,
   "metadata": {},
   "outputs": [
    {
     "data": {
      "text/plain": [
       "<3x764 sparse matrix of type '<class 'numpy.int64'>'\n",
       "\twith 895 stored elements in Compressed Sparse Row format>"
      ]
     },
     "execution_count": 4,
     "metadata": {},
     "output_type": "execute_result"
    }
   ],
   "source": [
    "# https://kavita-ganesan.com/how-to-use-countvectorizer/\n",
    "from sklearn.feature_extraction.text import CountVectorizer\n",
    "\n",
    "# base case, use default arguments\n",
    "cv = CountVectorizer(list_of_articles)\n",
    "count_vector=cv.fit_transform(list_of_articles)\n",
    "count_vector"
   ]
  },
  {
   "cell_type": "code",
   "execution_count": 56,
   "metadata": {},
   "outputs": [
    {
     "data": {
      "text/plain": [
       "68"
      ]
     },
     "execution_count": 56,
     "metadata": {},
     "output_type": "execute_result"
    }
   ],
   "source": [
    "# remove words that appear in 0.5 of the documents\n",
    "cv = CountVectorizer(list_of_articles, max_df=0.5)\n",
    "count_vector=cv.fit_transform(list_of_articles)\n",
    "count_vector\n",
    "len(cv.stop_words_) # how many words have been removed?\n"
   ]
  },
  {
   "cell_type": "code",
   "execution_count": 6,
   "metadata": {},
   "outputs": [
    {
     "data": {
      "text/plain": [
       "264"
      ]
     },
     "execution_count": 6,
     "metadata": {},
     "output_type": "execute_result"
    }
   ],
   "source": [
    "cv = CountVectorizer(list_of_articles, max_features=500)\n",
    "#cv = CountVectorizer(list_of_articles, max_df=0.8, min_df=1)\n",
    "count_vector=cv.fit_transform(list_of_articles)\n",
    "count_vector\n",
    "len(cv.stop_words_) # how many words have been removed"
   ]
  },
  {
   "cell_type": "code",
   "execution_count": 58,
   "metadata": {},
   "outputs": [
    {
     "data": {
      "text/plain": [
       "<3x61 sparse matrix of type '<class 'numpy.int64'>'\n",
       "\twith 122 stored elements in Compressed Sparse Row format>"
      ]
     },
     "execution_count": 58,
     "metadata": {},
     "output_type": "execute_result"
    }
   ],
   "source": [
    "count_vector"
   ]
  },
  {
   "cell_type": "code",
   "execution_count": 66,
   "metadata": {},
   "outputs": [
    {
     "name": "stdout",
     "output_type": "stream",
     "text": [
      "Collecting textblob-de\n",
      "\u001b[?25l  Downloading https://files.pythonhosted.org/packages/47/61/7a5759c3ac60bf9330a50ce81ebe7f0aac1bc6c674d45e00f7b3e190f5af/textblob_de-0.4.3-py2.py3-none-any.whl (468kB)\n",
      "\u001b[K     |████████████████████████████████| 471kB 676kB/s eta 0:00:01\n",
      "\u001b[?25hCollecting textblob>=0.9.0 (from textblob-de)\n",
      "\u001b[?25l  Downloading https://files.pythonhosted.org/packages/60/f0/1d9bfcc8ee6b83472ec571406bd0dd51c0e6330ff1a51b2d29861d389e85/textblob-0.15.3-py2.py3-none-any.whl (636kB)\n",
      "\u001b[K     |████████████████████████████████| 645kB 857kB/s eta 0:00:01\n",
      "\u001b[?25hRequirement already satisfied: nltk>=3.1 in /anaconda3/lib/python3.7/site-packages (from textblob>=0.9.0->textblob-de) (3.4.4)\n",
      "Requirement already satisfied: six in /anaconda3/lib/python3.7/site-packages (from nltk>=3.1->textblob>=0.9.0->textblob-de) (1.12.0)\n",
      "Installing collected packages: textblob, textblob-de\n",
      "Successfully installed textblob-0.15.3 textblob-de-0.4.3\n",
      "Note: you may need to restart the kernel to use updated packages.\n"
     ]
    }
   ],
   "source": [
    "# https://pypi.org/project/textblob-de/\n",
    "pip install textblob-de"
   ]
  },
  {
   "cell_type": "code",
   "execution_count": 9,
   "metadata": {},
   "outputs": [
    {
     "data": {
      "text/plain": [
       "WordList(['hinter', 'dem', 'Ferrari-Mundschutz', 'suchte', 'Sebastian', 'Vettel', 'verbittert', 'nach', 'Erklärungen', 'für', 'seinen', 'desaströs', 'Fehlstart', 'in', 'die', 'Formel-1-Notsaison', 'Weit', 'abhängen', 'haben', 'sich', 'der', '33-jährige', 'mit', 'ein', 'Anfängerfehler', 'am', 'Sonntag', 'in', 'Österreich', 'das', 'Rennen', 'komplett', 'zerstören', 'und', 'war', 'gerade', 'noch', 'als', 'Zehnter', 'von', 'elf', 'Fahrern', 'ins', 'Ziel', 'rollen', '„', 'Es', 'sein', 'irgendwo', 'der', 'Wurm', 'drin', '“', 'klagte', 'Vettel', '–', 'und', 'das', 'sein', 'noch', 'ein', 'Untertreibung', 'Beim', 'überlegen', 'Sieg', 'von', 'Mercedes-Pilot', 'Valtteri', 'Bottas', 'im', 'am', 'Ende', 'spektakulär', 'Geister-Grand-Prix', 'in', 'Spielberg', 'glich', 'Vettels', 'Auftritt', 'ein', 'Debakel', '„', 'Ich', 'haben', 'unheimlich', 'Probleme', 'auf', 'der', 'Strecke', 'zu', 'bleiben', 'Ich', 'haben', 'das', 'Auto', 'nicht', 'wiedererkannt', 'es', 'sein', 'ganz', 'schw', 'zu', 'fahren', '“', 'sagen', 'der', 'Hesse', 'zum', 'missratenen', 'Beginn', 'seiner', 'Abschiedstour', 'bei', 'Ferrari', 'Gut', 'Aussichten', 'Das', 'gelten', 'für', 'die', 'Strecke', 'aber', 'nicht', 'unbedingt', 'für', 'Sebastian', 'Vettel', 'Foto', 'Leonhard', 'Foeger', 'dpa', 'Am', 'Saisonende', 'müssen', 'Vettel', 'die', 'Scuderia', 'verlassen', 'Dass', 'seinem', 'peinlich', 'Dreher', 'ein', 'Kontakt', 'mit', 'seinem', 'Ferrari-Nachfolger', 'Carlos', 'Sainz', 'im', 'Mclaren', 'vorangegangen', 'sein', 'machen', 'das', 'Desaster', 'perfekt', 'Was', 'möglich', 'sein', 'sein', 'zeigen', 'Teamkollege', 'Charles', 'Leclerc', 'Der', 'Monegasse', 'trieb', 'den', 'lahmenden', 'Ferrari', 'nochen', 'auf', 'Ringen', 'zwei', '„', 'Für', 'mich', 'eins', 'mein', 'best', 'Rennen', 'seit', 'ich', 'in', 'der', 'Formel', '1', 'sein', '“', 'schwärmte', 'Leclerc', 'Dabei', 'profitierten', 'der', '22-jährige', 'und', 'der', 'Überraschungs-Dritte', 'Lando', 'Norris', 'im', 'Mclaren', 'aber', 'von', 'ein', 'Strafe', 'gegen', 'Titelverteidiger', 'Lewis', 'Hamilton', 'Der', 'Silberpfeil-Star', 'sein', 'nach', 'der', 'zweit', 'Safety-Car-Phase', 'mit', 'dem', 'anstürmenden', 'Red-Bull-Mann', 'Alexander', 'Albon', 'kollidiert', 'die', 'Fünf-Sekunden-Sanktion', 'der', 'Rennrichter', 'spülte', 'ihn', 'zurück', 'auf', 'Platz', 'vier', '„', 'Es', 'haben', 'sich', 'angefühlt', 'wie', 'ein', 'Rennunfall', 'Aber', 'die', 'Strafe', 'müssen', 'man', 'akzeptieren', 'ich', 'schaue', 'nach', 'vorn', '“', 'befand', 'Hamilton', 'All', 'wichtig', 'Updates', 'des', 'Tages', 'finden', 'Sie', 'im', 'kostenlos', 'Tagesspiegel-Newsletter', '„', 'Fragen', 'des', 'Tages', '“', 'Dazu', 'die', 'wichtigst', 'Nachricht', 'Leseempfehlungen', 'und', 'Debatten', 'Zur', 'Anmeldung', 'gehen', 'es', 'hier', 'Lange', 'haben', 'es', 'so', 'ausgesehen', 'als', 'wenn', 'nur', 'die', 'Getriebeprobleme', 'an', 'beid', 'Mercedes', 'ein', 'Doppelerfolg', 'des', 'Weltmeister-Teams', 'verhindern', 'können', 'Doch', 'durch', 'die', 'viel', 'Ausfälle', 'werden', 'es', 'am', 'Ende', 'noch', 'einmal', 'dramatisch', '„', 'Ich', 'sein', 'froh', 'das', 'Auto', 'ins', 'Ziel', 'bringen', 'zu', 'haben', '“', 'sagen', 'Bottas', 'nach', 'dem', 'achten', 'Grand-Prix-Sieg', 'seiner', 'Karriere', 'Feiern', 'dürfen', 'der', 'Finne', 'wegen', 'der', 'streng', 'Hygienerichtlinien', 'beim', 'Neustart', 'der', 'Formel', '1', 'nur', 'vor', 'leeren', 'Tribünen', 'in', 'der', 'Steiermark', 'Immerhin', 'ein', 'klein', 'Champagner-Sause', 'sein', 'den', 'drei', 'Erstplatzierten', 'auf', 'der', 'Zielgeraden', 'erlauben', 'Geschlossen', 'ist', 'anders', 'Vor', 'dem', 'Start', 'in', 'Spielberg', 'gehen', 'einig', 'Fahrer', 'in', 'die', 'Knie', 'daruntern', 'auch', 'Lewis', 'Hamilton', 'Mitte', 'und', 'Foto', 'Dan', 'Istitene', 'Afp', 'Noch', 'gröss', 'als', 'bei', 'Bottas', 'sein', 'die', 'Begeisterung', 'bei', 'Leclerc', 'und', 'Norris', 'die', 'kaum', 'jemand', 'für', 'ein', 'Podiumsplatz', 'auf', 'der', 'Rechnung', 'gehabt', 'haben', 'Eigentlich', 'sein', 'Red', 'Bull', 'als', 'zweit', 'Kraft', 'erwarten', 'worden', 'doch', 'der', 'Niederländer', 'Max', 'Verstappen', 'und', 'später', 'auch', 'Albon', 'müssen', 'mit', 'technisch', 'Problemen', 'aufgeben', '„', 'Sehr', 'erschütternd', '“', 'sein', 'das', 'urteilte', 'Red-Bull-Motorsportdirektor', 'Helmut', 'Marko', 'Dabei', 'haben', 'sich', 'das', 'Team', 'bei', 'seinen', 'beid', 'Heimspielen', 'zum', 'Saisonbeginn', 'erhoffen', 'gleich', 'die', 'Mercedes-Dominanz', 'zu', 'brechen', 'Beim', 'Anti-Rassismus-Protest', 'sein', 'sich', 'die', 'Formel-1-Piloten', 'uneins', 'Sieb', 'Monate', 'seit', 'dem', 'Saisonfinale', 'in', 'Abu', 'Dhabi', 'und', 'vier', 'Monate', 'seit', 'dem', 'abgesagten', 'Australien-Auftakt', 'haben', 'die', 'Formel', '1', 'auf', 'ihren', 'nächst', 'Grand', 'Prix', 'warten', 'müssen', 'Der', 'Neustart', 'nach', 'der', 'Coronakrise', 'erfolgen', 'dann', 'mit', 'ein', 'symbolisch', 'Akt', '14', 'der', '20', 'Piloten', 'gehen', 'als', 'Zeichen', 'des', 'Protests', 'gegen', 'Rassismus', 'auf', 'ein', 'Knie', 'Neben', 'Hamilton', 'dem', 'stärksten', 'Befürworter', 'dies', 'Geste', 'schliessen', 'sich', 'unter', 'andern', 'auch', 'Vettel', 'der', 'Aktion', 'an', 'Zudem', 'tragen', 'all', 'Fahrer', 'schwarz', 'T-Shirts', 'die', 'meist', 'mit', 'der', 'Aufschrift', '„', 'End', 'Racism', '“', 'Hamiltons', 'Shirt', 'trug', 'die', 'Botschaft', '„', 'Black', 'Lives', 'Matt', '“', 'Der', 'Brite', 'der', 'Michael', 'Schumachers', 'Rekord', 'von', 'sieben', 'Wm-Titeln', 'in', 'dies', 'Saison', 'egalisieren', 'wollen', 'müssen', 'kurz', 'vor', 'dem', 'Start', 'ein', 'Rückschlag', 'hinnehmen', 'Statt', 'von', 'Platz', 'zwei', 'dürfen', 'er', 'nur', 'von', 'Ringen', 'fünf', 'starten', 'weil', 'er', 'in', 'der', 'Qualifikation', 'bei', 'seiner', 'schnellsten', 'Runde', 'regelwidrig', 'Gelbe', 'Warnflaggen', 'missachtet', 'haben', 'Die', 'Rennkommissare', 'geben', 'ein', 'Protest', 'des', 'Red-Bull-Teams', 'statt', '„', 'Das', 'müssen', 'man', 'sportlich', 'nehmen', '“', 'meinte', 'Mercedes-Teamchef', 'Toto', 'Wolff', 'So', 'können', 'Hamiltons', 'Teamkollege', 'Bottas', 'das', 'Rennen', 'von', 'vorn', 'bestimmen', 'und', 'lassen', 'sich', 'zu', 'kein', 'Zeit', 'von', 'Ringen', 'eins', 'verdrängen', 'Hamilton', 'kommen', 'dem', 'Finnen', 'zwar', 'mehrfach', 'sehr', 'nah', 'können', 'aber', 'nie', 'ernsthaft', 'attackieren', 'Wie', 'bei', 'viel', 'Teams', 'schleichen', 'sich', 'auch', 'bei', 'Mercedes', 'im', 'Rennverlauf', 'technisch', 'Sorgen', 'ein', 'Gleich', 'neun', 'Fahr', 'erreichten', 'in', 'Spielberg', 'nicht', 'das', 'Ziel', 'Schon', 'in', 'ein', 'Woche', 'sein', 'auf', 'dem', 'Red-Bull-Ring', 'der', 'zweit', 'Saisonlauf', 'angesetzt', 'sieben', 'Tage', 'spät', 'folgen', 'dann', 'der', 'Gross', 'Preis', 'von', 'Ungarn', 'In', 'Budapest', 'wollen', 'Ferrari', 'dann', 'ein', 'komplett', 'überholte', 'Version', 'seines', 'Auto', 'an', 'den', 'Start', 'bringen', 'Sebastian', 'Vettel', 'können', 'den', 'Radikal-Umbau', 'seines', 'störrisch', 'F1000', 'sicher', 'kaum', 'erwarten', 'dpa'])"
      ]
     },
     "execution_count": 9,
     "metadata": {},
     "output_type": "execute_result"
    }
   ],
   "source": [
    "from textblob_de import TextBlobDE as TextBlob\n",
    "blob = TextBlob(list_of_articles[1])\n",
    "blob.words.lemmatize()"
   ]
  },
  {
   "cell_type": "code",
   "execution_count": null,
   "metadata": {},
   "outputs": [],
   "source": []
  },
  {
   "cell_type": "code",
   "execution_count": null,
   "metadata": {},
   "outputs": [],
   "source": []
  },
  {
   "cell_type": "code",
   "execution_count": null,
   "metadata": {},
   "outputs": [],
   "source": []
  },
  {
   "cell_type": "code",
   "execution_count": null,
   "metadata": {},
   "outputs": [],
   "source": [
    "# https://kavita-ganesan.com/tfidftransformer-tfidfvectorizer-usage-differences/"
   ]
  },
  {
   "cell_type": "code",
   "execution_count": null,
   "metadata": {},
   "outputs": [],
   "source": [
    "# https://scikit-learn.org/stable/modules/generated/sklearn.feature_extraction.text.CountVectorizer.html\n",
    "# count vectoriser with n-gram model\n",
    "# Convert a collection of text documents to a matrix of token counts"
   ]
  },
  {
   "cell_type": "code",
   "execution_count": null,
   "metadata": {},
   "outputs": [],
   "source": [
    "# https://scikit-learn.org/stable/modules/generated/sklearn.pipeline.Pipeline.html\n",
    "# use pipeline"
   ]
  },
  {
   "cell_type": "code",
   "execution_count": null,
   "metadata": {},
   "outputs": [],
   "source": [
    "# https://queirozf.com/entries/scikit-learn-pipeline-examples\n",
    "# examples"
   ]
  },
  {
   "cell_type": "code",
   "execution_count": null,
   "metadata": {},
   "outputs": [],
   "source": [
    "# https://stackoverflow.com/questions/33091376/python-what-is-exactly-sklearn-pipeline-pipeline\n",
    "# a discussion"
   ]
  }
 ],
 "metadata": {
  "kernelspec": {
   "display_name": "Python 3",
   "language": "python",
   "name": "python3"
  },
  "language_info": {
   "codemirror_mode": {
    "name": "ipython",
    "version": 3
   },
   "file_extension": ".py",
   "mimetype": "text/x-python",
   "name": "python",
   "nbconvert_exporter": "python",
   "pygments_lexer": "ipython3",
   "version": "3.7.3"
  }
 },
 "nbformat": 4,
 "nbformat_minor": 2
}
