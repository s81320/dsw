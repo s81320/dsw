{
 "cells": [
  {
   "cell_type": "markdown",
   "metadata": {},
   "source": [
    "# dynamic webpage\n",
    "use variables to create fitting html page to read articles"
   ]
  },
  {
   "cell_type": "markdown",
   "metadata": {},
   "source": [
    "the number of clusters should be variable.\n",
    "A reader may choose to read from a selected cluster.\n",
    "We need a drop down showing nr_of_clusters many options.\n",
    "\n",
    "We will write a python function that returns a string that is html for a drop down list with nr_of_clusters options"
   ]
  },
  {
   "cell_type": "code",
   "execution_count": 2,
   "metadata": {},
   "outputs": [],
   "source": [
    "from types import *\n",
    "import sys\n",
    "\n",
    "def drop_down_list (n=5):\n",
    "    '''input: integer n, defaults n=5\n",
    "\n",
    "    output: html code for a drop down list with n options'''\n",
    "    \n",
    "    try:\n",
    "        assert (type(n)==int)\n",
    "    except AssertionError:\n",
    "        print(\"Assertion error in drop_down_list() . n is not an integer: %r\" % n )\n",
    "        sys.exit(1)\n",
    "        \n",
    "    try:\n",
    "        assert (n>0) \n",
    "    except AssertionError:\n",
    "        print(\"Assertion error in drop_down_list() . n should be larger than 0.\" )\n",
    "        sys.exit(1)\n",
    "\n",
    "    start = '<select id=\"myList\">'\n",
    "    options = ''\n",
    "    if(n==1):\n",
    "        options = '<option value=\"1\">(the only) cluster</option>'\n",
    "    else:\n",
    "        options = '<option value=\"1\">cluster 1 (largest cluster)</option>'\n",
    "        for k in range(2,n):\n",
    "            options = options + '<option value=\"'+str(k)+'\">cluster '+str(k)+'</option>'\n",
    "        options = options + '<option value=\"'+str(n)+'\">Cluster '+str(n)+' (smallest cluster)</option>'\n",
    "    finish = '</select>'\n",
    "    \n",
    "    return(start+options+finish)"
   ]
  },
  {
   "cell_type": "code",
   "execution_count": 80,
   "metadata": {},
   "outputs": [
    {
     "data": {
      "text/plain": [
       "'<select id=\"myList\"><option value=\"1\">cluster 1 (largest cluster)</option><option value=\"2\">cluster 2</option><option value=\"3\">cluster 3</option><option value=\"4\">cluster 4</option><option value=\"5\">Cluster 5 (smallest cluster)</option></select>'"
      ]
     },
     "execution_count": 80,
     "metadata": {},
     "output_type": "execute_result"
    }
   ],
   "source": [
    "drop_down_list()"
   ]
  },
  {
   "cell_type": "markdown",
   "metadata": {},
   "source": [
    "once a cluster is selected from the drop down list,\n",
    "the reader is presented with the titles of articles in the selected cluster."
   ]
  },
  {
   "cell_type": "code",
   "execution_count": 3,
   "metadata": {},
   "outputs": [],
   "source": [
    "def titles_for_cluster (df,cluster):\n",
    "    '''input: integer cluster , data frame df\n",
    "    output: two lists, first list of titles from cluster cluster, second list of articles from cluster cluster'''\n",
    "    \n",
    "    return(df.loc[df['cluster'] == cluster]['title'])"
   ]
  },
  {
   "cell_type": "code",
   "execution_count": 4,
   "metadata": {},
   "outputs": [],
   "source": [
    "# dummy data\n",
    "\n",
    "import pandas as pd \n",
    "\n",
    "df = pd.DataFrame(columns=['title', 'text','cluster'])"
   ]
  },
  {
   "cell_type": "code",
   "execution_count": 22,
   "metadata": {},
   "outputs": [],
   "source": [
    "df['title'] = ['title A', 'title B', 'title C', 'some title', 'some other title']\n",
    "list_of_texts = ['this story is from Gelsenkirchen at the end of the 20th century. Here it happened that...']\n",
    "list_of_texts.append('Something relevant for topic B')\n",
    "list_of_texts.append('Something that sounds like a funny story about C')\n",
    "list_of_texts.append('Anyhow, it was last April when I met S. Someone at a conference about Whatever.')\n",
    "list_of_texts.append('Garbage text')\n",
    "df['text'] = list_of_texts\n",
    "df['cluster'] = [1,2,3,1,2]"
   ]
  },
  {
   "cell_type": "code",
   "execution_count": 6,
   "metadata": {},
   "outputs": [
    {
     "data": {
      "text/html": [
       "<div>\n",
       "<style scoped>\n",
       "    .dataframe tbody tr th:only-of-type {\n",
       "        vertical-align: middle;\n",
       "    }\n",
       "\n",
       "    .dataframe tbody tr th {\n",
       "        vertical-align: top;\n",
       "    }\n",
       "\n",
       "    .dataframe thead th {\n",
       "        text-align: right;\n",
       "    }\n",
       "</style>\n",
       "<table border=\"1\" class=\"dataframe\">\n",
       "  <thead>\n",
       "    <tr style=\"text-align: right;\">\n",
       "      <th></th>\n",
       "      <th>title</th>\n",
       "      <th>text</th>\n",
       "      <th>cluster</th>\n",
       "    </tr>\n",
       "  </thead>\n",
       "  <tbody>\n",
       "    <tr>\n",
       "      <th>0</th>\n",
       "      <td>title A</td>\n",
       "      <td>this story is from Gelsenkirchen at the end of...</td>\n",
       "      <td>1</td>\n",
       "    </tr>\n",
       "    <tr>\n",
       "      <th>1</th>\n",
       "      <td>title B</td>\n",
       "      <td>Something relevant for topic B</td>\n",
       "      <td>2</td>\n",
       "    </tr>\n",
       "    <tr>\n",
       "      <th>2</th>\n",
       "      <td>title C</td>\n",
       "      <td>Something that sounds like a funny story about C</td>\n",
       "      <td>3</td>\n",
       "    </tr>\n",
       "    <tr>\n",
       "      <th>3</th>\n",
       "      <td>some title</td>\n",
       "      <td>Anyhow, it was last April when I met S. Someon...</td>\n",
       "      <td>1</td>\n",
       "    </tr>\n",
       "    <tr>\n",
       "      <th>4</th>\n",
       "      <td>some other title</td>\n",
       "      <td>Garbage text</td>\n",
       "      <td>2</td>\n",
       "    </tr>\n",
       "  </tbody>\n",
       "</table>\n",
       "</div>"
      ],
      "text/plain": [
       "              title                                               text  \\\n",
       "0           title A  this story is from Gelsenkirchen at the end of...   \n",
       "1           title B                     Something relevant for topic B   \n",
       "2           title C   Something that sounds like a funny story about C   \n",
       "3        some title  Anyhow, it was last April when I met S. Someon...   \n",
       "4  some other title                                       Garbage text   \n",
       "\n",
       "   cluster  \n",
       "0        1  \n",
       "1        2  \n",
       "2        3  \n",
       "3        1  \n",
       "4        2  "
      ]
     },
     "execution_count": 6,
     "metadata": {},
     "output_type": "execute_result"
    }
   ],
   "source": [
    "df"
   ]
  },
  {
   "cell_type": "markdown",
   "metadata": {},
   "source": [
    "Titles are returned as a pandas Series, including the indices from the original dataframe."
   ]
  },
  {
   "cell_type": "code",
   "execution_count": 18,
   "metadata": {},
   "outputs": [
    {
     "data": {
      "text/plain": [
       "(2, 0, 3)"
      ]
     },
     "execution_count": 18,
     "metadata": {},
     "output_type": "execute_result"
    }
   ],
   "source": [
    "c = titles_for_cluster(df,1)\n",
    "len(c), c.index[0] , c.index[1]\n"
   ]
  },
  {
   "cell_type": "markdown",
   "metadata": {},
   "source": [
    "This allows us to access the text belonging to the titles, especially the title that gets selected (by the user)."
   ]
  },
  {
   "cell_type": "code",
   "execution_count": 34,
   "metadata": {},
   "outputs": [
    {
     "data": {
      "text/plain": [
       "'this story is from Gelsenkirchen at the end of the 20th century. Here it happened that...'"
      ]
     },
     "execution_count": 34,
     "metadata": {},
     "output_type": "execute_result"
    }
   ],
   "source": [
    "df.loc[0,\"text\"]"
   ]
  },
  {
   "cell_type": "code",
   "execution_count": null,
   "metadata": {},
   "outputs": [],
   "source": []
  },
  {
   "cell_type": "code",
   "execution_count": null,
   "metadata": {},
   "outputs": [],
   "source": []
  }
 ],
 "metadata": {
  "kernelspec": {
   "display_name": "Python 3",
   "language": "python",
   "name": "python3"
  },
  "language_info": {
   "codemirror_mode": {
    "name": "ipython",
    "version": 3
   },
   "file_extension": ".py",
   "mimetype": "text/x-python",
   "name": "python",
   "nbconvert_exporter": "python",
   "pygments_lexer": "ipython3",
   "version": "3.7.3"
  }
 },
 "nbformat": 4,
 "nbformat_minor": 2
}
